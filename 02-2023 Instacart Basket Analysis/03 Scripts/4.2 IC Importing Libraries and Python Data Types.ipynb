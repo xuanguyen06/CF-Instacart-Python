{
 "cells": [
  {
   "cell_type": "markdown",
   "id": "9645e91e",
   "metadata": {},
   "source": [
    "# 4.2 - Importing Libraries and Python Data Types"
   ]
  },
  {
   "cell_type": "markdown",
   "id": "8e4dab79",
   "metadata": {},
   "source": [
    "## This scripts contain the following points:\n",
    "### 1. Importing Libraries\n",
    "### 2. Data Types\n",
    "### 3. Bonus Task"
   ]
  },
  {
   "cell_type": "markdown",
   "id": "c8a29d83",
   "metadata": {},
   "source": [
    "# 01 Importing Libraries"
   ]
  },
  {
   "cell_type": "code",
   "execution_count": 1,
   "id": "cdfb6b29",
   "metadata": {},
   "outputs": [],
   "source": [
    "# Import Libraries\n",
    "import pandas as pd\n",
    "import numpy as np\n",
    "import os"
   ]
  },
  {
   "cell_type": "markdown",
   "id": "2ec129fb",
   "metadata": {},
   "source": [
    "# 02 Data Types"
   ]
  },
  {
   "cell_type": "markdown",
   "id": "38def374",
   "metadata": {},
   "source": [
    "## Question 7"
   ]
  },
  {
   "cell_type": "code",
   "execution_count": 6,
   "id": "2c0ff5ad",
   "metadata": {},
   "outputs": [
    {
     "data": {
      "text/plain": [
       "100"
      ]
     },
     "execution_count": 6,
     "metadata": {},
     "output_type": "execute_result"
    }
   ],
   "source": [
    "x = 50\n",
    "y = 50\n",
    "x + y"
   ]
  },
  {
   "cell_type": "code",
   "execution_count": 7,
   "id": "48cbe52c",
   "metadata": {},
   "outputs": [
    {
     "data": {
      "text/plain": [
       "100"
      ]
     },
     "execution_count": 7,
     "metadata": {},
     "output_type": "execute_result"
    }
   ],
   "source": [
    "a = 90\n",
    "b = 10\n",
    "a + b"
   ]
  },
  {
   "cell_type": "code",
   "execution_count": 8,
   "id": "2ed8a8f4",
   "metadata": {},
   "outputs": [
    {
     "data": {
      "text/plain": [
       "100"
      ]
     },
     "execution_count": 8,
     "metadata": {},
     "output_type": "execute_result"
    }
   ],
   "source": [
    "j = 75\n",
    "k = 25\n",
    "j + k"
   ]
  },
  {
   "cell_type": "markdown",
   "id": "52e6314e",
   "metadata": {},
   "source": [
    "## Question 8 "
   ]
  },
  {
   "cell_type": "code",
   "execution_count": 9,
   "id": "418cccef",
   "metadata": {},
   "outputs": [
    {
     "data": {
      "text/plain": [
       "1.6709677419354838"
      ]
     },
     "execution_count": 9,
     "metadata": {},
     "output_type": "execute_result"
    }
   ],
   "source": [
    "x = 25.9\n",
    "y = 15.5\n",
    "x / y"
   ]
  },
  {
   "cell_type": "markdown",
   "id": "8eee0398",
   "metadata": {},
   "source": [
    "## Question 9"
   ]
  },
  {
   "cell_type": "code",
   "execution_count": 12,
   "id": "cff386f5",
   "metadata": {},
   "outputs": [
    {
     "data": {
      "text/plain": [
       "'Career'"
      ]
     },
     "execution_count": 12,
     "metadata": {},
     "output_type": "execute_result"
    }
   ],
   "source": [
    "a = 'Car'\n",
    "b = 'eer'\n",
    "a + b"
   ]
  },
  {
   "cell_type": "markdown",
   "id": "9051c1f1",
   "metadata": {},
   "source": [
    "## Question 10"
   ]
  },
  {
   "cell_type": "code",
   "execution_count": 13,
   "id": "273a6ef3",
   "metadata": {},
   "outputs": [
    {
     "data": {
      "text/plain": [
       "'Hello, my name is Xuan. How are you doing?'"
      ]
     },
     "execution_count": 13,
     "metadata": {},
     "output_type": "execute_result"
    }
   ],
   "source": [
    "a = 'Hello, '\n",
    "b = 'my name is'\n",
    "c = ' Xuan.'\n",
    "d = ' How are '\n",
    "e = 'you doing?'\n",
    "a + b + c + d + e"
   ]
  },
  {
   "cell_type": "markdown",
   "id": "60cb551d",
   "metadata": {},
   "source": [
    "## Bonus Task"
   ]
  },
  {
   "cell_type": "code",
   "execution_count": 14,
   "id": "6b835683",
   "metadata": {},
   "outputs": [
    {
     "data": {
      "text/plain": [
       "'Hello Hello Hello Hello Hello Hello Hello Hello Hello Hello Hello Hello Hello Hello Hello Hello Hello Hello Hello Hello Hello Hello Hello Hello Hello Hello Hello Hello Hello Hello Hello Hello Hello Hello Hello Hello Hello Hello Hello Hello Hello Hello Hello Hello Hello Hello Hello Hello Hello Hello Hello Hello Hello Hello Hello Hello Hello Hello Hello Hello Hello Hello Hello Hello Hello Hello Hello Hello Hello Hello Hello Hello Hello Hello Hello Hello Hello Hello Hello Hello Hello Hello Hello Hello Hello Hello Hello Hello Hello Hello Hello Hello Hello Hello Hello Hello Hello Hello Hello Hello '"
      ]
     },
     "execution_count": 14,
     "metadata": {},
     "output_type": "execute_result"
    }
   ],
   "source": [
    "a = 'Hello '\n",
    "a * 100"
   ]
  },
  {
   "cell_type": "code",
   "execution_count": null,
   "id": "59190898",
   "metadata": {},
   "outputs": [],
   "source": []
  }
 ],
 "metadata": {
  "kernelspec": {
   "display_name": "Python 3 (ipykernel)",
   "language": "python",
   "name": "python3"
  },
  "language_info": {
   "codemirror_mode": {
    "name": "ipython",
    "version": 3
   },
   "file_extension": ".py",
   "mimetype": "text/x-python",
   "name": "python",
   "nbconvert_exporter": "python",
   "pygments_lexer": "ipython3",
   "version": "3.9.13"
  }
 },
 "nbformat": 4,
 "nbformat_minor": 5
}
